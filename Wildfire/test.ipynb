{
 "cells": [
  {
   "cell_type": "code",
   "execution_count": 1,
   "metadata": {},
   "outputs": [
    {
     "name": "stdout",
     "output_type": "stream",
     "text": [
      "pygame 2.3.0 (SDL 2.24.2, Python 3.8.10)\n",
      "Hello from the pygame community. https://www.pygame.org/contribute.html\n",
      "62\n"
     ]
    },
    {
     "name": "stderr",
     "output_type": "stream",
     "text": [
      "  8%|▊         | 162/2000 [01:05<12:41,  2.41it/s]"
     ]
    },
    {
     "name": "stdout",
     "output_type": "stream",
     "text": [
      "deleted\n"
     ]
    },
    {
     "name": "stderr",
     "output_type": "stream",
     "text": [
      " 12%|█▏        | 242/2000 [01:45<19:24,  1.51it/s]  "
     ]
    },
    {
     "name": "stdout",
     "output_type": "stream",
     "text": [
      "deleted\n"
     ]
    },
    {
     "name": "stderr",
     "output_type": "stream",
     "text": [
      " 19%|█▉        | 384/2000 [02:51<12:40,  2.13it/s]  "
     ]
    },
    {
     "name": "stdout",
     "output_type": "stream",
     "text": [
      "deleted\n"
     ]
    },
    {
     "name": "stderr",
     "output_type": "stream",
     "text": [
      " 32%|███▏      | 646/2000 [04:42<17:44,  1.27it/s]"
     ]
    },
    {
     "name": "stdout",
     "output_type": "stream",
     "text": [
      "deleted\n"
     ]
    },
    {
     "name": "stderr",
     "output_type": "stream",
     "text": [
      " 39%|███▉      | 778/2000 [05:42<07:10,  2.84it/s]"
     ]
    },
    {
     "name": "stdout",
     "output_type": "stream",
     "text": [
      "deleted\n"
     ]
    },
    {
     "name": "stderr",
     "output_type": "stream",
     "text": [
      " 40%|████      | 801/2000 [05:51<07:33,  2.65it/s]"
     ]
    },
    {
     "name": "stdout",
     "output_type": "stream",
     "text": [
      "deleted\n"
     ]
    },
    {
     "name": "stderr",
     "output_type": "stream",
     "text": [
      " 48%|████▊     | 960/2000 [06:57<05:07,  3.38it/s]"
     ]
    },
    {
     "name": "stdout",
     "output_type": "stream",
     "text": [
      "deleted\n"
     ]
    },
    {
     "name": "stderr",
     "output_type": "stream",
     "text": [
      " 51%|█████     | 1016/2000 [07:26<49:05,  2.99s/it]"
     ]
    },
    {
     "name": "stdout",
     "output_type": "stream",
     "text": [
      "deleted\n"
     ]
    },
    {
     "name": "stderr",
     "output_type": "stream",
     "text": [
      " 64%|██████▎   | 1273/2000 [09:12<03:15,  3.73it/s]"
     ]
    },
    {
     "name": "stdout",
     "output_type": "stream",
     "text": [
      "deleted\n"
     ]
    },
    {
     "name": "stderr",
     "output_type": "stream",
     "text": [
      " 66%|██████▋   | 1326/2000 [09:34<03:49,  2.94it/s]"
     ]
    },
    {
     "name": "stdout",
     "output_type": "stream",
     "text": [
      "deleted\n"
     ]
    },
    {
     "name": "stderr",
     "output_type": "stream",
     "text": [
      " 74%|███████▍  | 1483/2000 [10:30<02:36,  3.30it/s]"
     ]
    },
    {
     "name": "stdout",
     "output_type": "stream",
     "text": [
      "deleted\n"
     ]
    },
    {
     "name": "stderr",
     "output_type": "stream",
     "text": [
      "100%|█████████▉| 1996/2000 [14:07<00:01,  2.35it/s]\n"
     ]
    }
   ],
   "source": [
    "# Bringing both PRM and A* agents\n",
    "# PRM agent will be the firetruck with kinematic constraints trying to reach the obstacles and extinguish them\n",
    "# A* agent will be the wumpus trying to reach the obstacles and burn them\n",
    "# Simulate the environment\n",
    "\n",
    "import numpy as np\n",
    "import settings\n",
    "import pygame\n",
    "import PRM\n",
    "import time\n",
    "import Generate_obstacles\n",
    "import Wumpus_A_star\n",
    "from scipy.spatial.distance import euclidean\n",
    "\n",
    "\n",
    "\n",
    "\n",
    "\n",
    "\n",
    "\n",
    "settings.init()\n",
    "pygame.display.set_caption('PRM')\n",
    "#Generate obstacles\n",
    "obstacle_map = Generate_obstacles.generate_obstacles()\n",
    "\n",
    "#Generate PRM agent\n",
    "prm_agent = PRM.PRM(obstacle_map,2000,6)\n",
    "#Generate A* agent\n",
    "wumpus_agent = Wumpus_A_star.wumpus_A_star(obstacle_map)\n",
    "#Generate  points\n",
    "points = prm_agent.generate_random_points()\n",
    "#Generate graph\n",
    "prm_agent.generate_road_map()"
   ]
  },
  {
   "cell_type": "code",
   "execution_count": 2,
   "metadata": {},
   "outputs": [],
   "source": [
    "def find_obstacle_to_burn(obstacle_to_burn,points):\n",
    "    #Find the point nearest to the obstacle\n",
    "    obstacle_select = np.random.choice(obstacle_to_burn)\n",
    "    dist = np.float32('inf')\n",
    "    goal = None\n",
    "    for point in points:\n",
    "        if euclidean((point.vertex[0],point.vertex[1]),obstacle_select.get_center()) < dist:\n",
    "            dist = euclidean((point.vertex[0],point.vertex[1]),obstacle_select.get_center())\n",
    "            goal = point\n",
    "\n",
    "    return goal, obstacle_select\n",
    "\n",
    "def find_obstacle_to_save(obstacles_to_save,points):\n",
    "    print(len(obstacles_to_save))\n",
    "    #Find the point nearest to the obstacle\n",
    "    obstacle_select = np.random.choice(obstacles_to_save)\n",
    "    dist = np.float32('inf')\n",
    "    goal = None\n",
    "    for point in points:\n",
    "        if euclidean((point.vertex[0],point.vertex[1]),obstacle_select.get_center()) < dist:\n",
    "            dist = euclidean((point.vertex[0],point.vertex[1]),obstacle_select.get_center())\n",
    "            goal = point\n",
    "\n",
    "    return goal, obstacle_select"
   ]
  },
  {
   "cell_type": "code",
   "execution_count": 4,
   "metadata": {},
   "outputs": [
    {
     "name": "stdout",
     "output_type": "stream",
     "text": [
      "<PRM.Node object at 0x7f0bbddffc10>\n",
      "Starting simulation 1\n",
      "1\n"
     ]
    },
    {
     "ename": "TypeError",
     "evalue": "cannot unpack non-iterable NoneType object",
     "output_type": "error",
     "traceback": [
      "\u001b[0;31m---------------------------------------------------------------------------\u001b[0m",
      "\u001b[0;31mTypeError\u001b[0m                                 Traceback (most recent call last)",
      "Cell \u001b[0;32mIn[4], line 56\u001b[0m\n\u001b[1;32m     54\u001b[0m     \u001b[39mif\u001b[39;00m(\u001b[39mlen\u001b[39m(burning_obstacles) \u001b[39m!=\u001b[39m \u001b[39m0\u001b[39m):\n\u001b[1;32m     55\u001b[0m         goal_truck,obstacle_to_save \u001b[39m=\u001b[39m find_obstacle_to_save(burning_obstacles,points)\n\u001b[0;32m---> 56\u001b[0m         truck_path,_ \u001b[39m=\u001b[39m prm_agent\u001b[39m.\u001b[39mgenerate_road_from_graph(start_point \u001b[39m=\u001b[39m start_truck, goal_node\u001b[39m=\u001b[39mgoal_truck)\n\u001b[1;32m     57\u001b[0m         truck_goal_reached \u001b[39m=\u001b[39m \u001b[39mFalse\u001b[39;00m\n\u001b[1;32m     60\u001b[0m \u001b[39mif\u001b[39;00m wumpus_goal_reached:\n",
      "\u001b[0;31mTypeError\u001b[0m: cannot unpack non-iterable NoneType object"
     ]
    }
   ],
   "source": [
    "settings.screen.fill((255, 255, 255))\n",
    "for tetromino in obstacle_map:\n",
    "    tetromino.state = 0\n",
    "    tetromino.time_left_to_live = np.float32('inf')\n",
    "    tetromino.update(0.1)\n",
    "    tetromino.draw(settings.screen)\n",
    "unburnt_obstacles = obstacle_map.copy()\n",
    "burning_obstacles = []\n",
    "burnt_obstacles = []\n",
    "goal,obstacle_to_burn = find_obstacle_to_burn(unburnt_obstacles,points)\n",
    "start,_ = find_obstacle_to_burn(unburnt_obstacles,points)\n",
    "#Generate path\n",
    "#truck_path,_ = prm_agent.generate_road_from_graph(start_point = start, goal_node=goal)\n",
    "truck_path = []\n",
    "wumpus_path = wumpus_agent.get_path([start.vertex[0],start.vertex[1]], [goal.vertex[0],goal.vertex[1]])\n",
    "#Generate controls\n",
    "for tetromino in obstacle_map:\n",
    "    tetromino.draw(settings.screen)\n",
    "\n",
    "# for local_points in truck_path:\n",
    "#     pygame.draw.circle(settings.screen, (255,0,255), (int(local_points[0]*settings.pixels_per_meter), int(local_points[1]*settings.pixels_per_meter)), 2)\n",
    "\n",
    "for i in range(len(wumpus_path)-1):\n",
    "    pygame.draw.line(settings.screen, (0,255,0), (wumpus_path[i][0]*settings.pixels_per_meter, wumpus_path[i][1]*settings.pixels_per_meter), (wumpus_path[i+1][0]*settings.pixels_per_meter, wumpus_path[i+1][1]*settings.pixels_per_meter), 4)\n",
    "\n",
    "pygame.display.update()\n",
    "\n",
    "wumpus_goal_reached = True\n",
    "truck_goal_reached = True\n",
    "print(start)\n",
    "start_wumpus = goal\n",
    "start_truck = start\n",
    "obstacle_to_burn.update(0.1,'burn')\n",
    "burning_obstacles.append(obstacle_to_burn)\n",
    "unburnt_obstacles.remove(obstacle_to_burn)\n",
    "\n",
    "num_saved = 0\n",
    "num_burned = 0\n",
    "wumpus_wait_counter  = 0\n",
    "current_wumpus_position = [start_wumpus.vertex[0],start_wumpus.vertex[1]]\n",
    "current_truck_position = [start_truck.vertex[0],start_truck.vertex[1],start_truck.vertex[2]]\n",
    "print('Starting simulation', len(burning_obstacles))\n",
    "obstacle_to_save_updated = False\n",
    "obstacle_to_burn_updated = False\n",
    "\n",
    "for iteration in range(36000):\n",
    "\n",
    "    settings.screen.fill((255, 255, 255))\n",
    "    \n",
    "    for tetromino in obstacle_map:\n",
    "        tetromino.draw(settings.screen)\n",
    "\n",
    "    if truck_goal_reached:\n",
    "        if(len(burning_obstacles) != 0):\n",
    "            goal_truck,obstacle_to_save = find_obstacle_to_save(burning_obstacles,points)\n",
    "            print('start truck',start_truck.vertex)\n",
    "            print('goal truck',goal_truck.vertex)\n",
    "            truck_path,_ = prm_agent.generate_road_from_graph(start_point = start_truck, goal_node=goal_truck)\n",
    "            truck_goal_reached = False\n",
    "        \n",
    "    \n",
    "    if wumpus_goal_reached:\n",
    "        goal_wumpus, obstacle_to_burn = find_obstacle_to_burn(unburnt_obstacles,points)\n",
    "        wumpus_path = wumpus_agent.get_path([start_wumpus.vertex[0],start_wumpus.vertex[1]], [goal_wumpus.vertex[0],goal_wumpus.vertex[1]])\n",
    "        wumpus_goal_reached = False\n",
    "    \n",
    "    if wumpus_wait_counter == 1:\n",
    "        wumpus_wait_counter = 0\n",
    "        if len(wumpus_path) > 0:\n",
    "            wumpus_agent.move(wumpus_path[0])\n",
    "            current_wumpus_position = wumpus_path[0]\n",
    "            local_points = wumpus_path[0]\n",
    "            pygame.draw.circle(settings.screen, (0,255,0), (int(local_points[0]*settings.pixels_per_meter), int(local_points[1]*settings.pixels_per_meter)), 5)\n",
    "            wumpus_path.pop(0)\n",
    "    else:\n",
    "        wumpus_wait_counter += 1\n",
    "        wumpus_agent.move(current_wumpus_position)\n",
    "        pygame.draw.circle(settings.screen, (0,255,0), (int(current_wumpus_position[0]*settings.pixels_per_meter), int(current_wumpus_position[1]*settings.pixels_per_meter)), 5)\n",
    "    \n",
    "    if len(truck_path) > 0:\n",
    "        prm_agent.move(truck_path[0])\n",
    "        current_truck_position = truck_path[0]\n",
    "        local_points = truck_path[0]\n",
    "        pygame.draw.circle(settings.screen, (255,0,255), (int(local_points[0]*settings.pixels_per_meter), int(local_points[1]*settings.pixels_per_meter)), 5)\n",
    "        truck_path.pop(0)\n",
    "\n",
    "        \n",
    "\n",
    "    if len(wumpus_path) == 0:\n",
    "        wumpus_goal_reached = True\n",
    "        start_wumpus = goal_wumpus\n",
    "        obstacle_to_burn.update(0.1,'burn')\n",
    "        obstacle_to_burn_updated = True\n",
    "        burning_obstacles.append(obstacle_to_burn)\n",
    "        if len(unburnt_obstacles) != 0:\n",
    "            unburnt_obstacles.remove(obstacle_to_burn)\n",
    "\n",
    "    \n",
    "    \n",
    "    \n",
    "    if len(truck_path) == 0 and not truck_goal_reached:\n",
    "        truck_goal_reached = True\n",
    "        start_truck = goal_truck\n",
    "        obstacle_to_save.update(0.1,'save')\n",
    "        obstacle_to_save_updated = True\n",
    "        if obstacle_to_save.get_status() == 0:\n",
    "            num_saved +=1\n",
    "            unburnt_obstacles.append(obstacle_to_save)\n",
    "            burning_obstacles.remove(obstacle_to_save)\n",
    "\n",
    "    elif len(truck_path) == 0 and truck_goal_reached:\n",
    "        prm_agent.move(current_truck_position)\n",
    "\n",
    "    for obstacle in obstacle_map:\n",
    "        if obstacle.status == 2:\n",
    "            burnt_obstacles.append(obstacle)\n",
    "            print(\"check\",len(burning_obstacles))\n",
    "            if obstacle in burning_obstacles:\n",
    "                burning_obstacles.remove(obstacle)\n",
    "\n",
    "    for tetromino in obstacle_map:\n",
    "        if tetromino == obstacle_to_burn and obstacle_to_burn_updated:\n",
    "            obstacle_to_burn_updated = False\n",
    "            continue\n",
    "        elif tetromino == obstacle_to_save and obstacle_to_save_updated:\n",
    "            obstacle_to_save_updated = False\n",
    "            continue\n",
    "        tetromino.update(0.1)\n",
    "\n",
    "    if len(burning_obstacles) == 0 and len(unburnt_obstacles) == 0:\n",
    "        break\n",
    "\n",
    "            \n",
    "\n",
    "\n",
    "\n",
    "    pygame.display.update()\n",
    "    pygame.time.wait(10)\n",
    "\n",
    "\n",
    "for obstacle in obstacle_map:\n",
    "    if obstacle.status == 2:\n",
    "        num_burned +=1\n",
    "    \n",
    "\n",
    "\n",
    "print('Number of obstacles saved',num_saved/len(obstacle_map))\n",
    "print('Number of obstacles burned',num_burned/len(obstacle_map))\n",
    "        \n",
    "    \n",
    "\n",
    "\n"
   ]
  }
 ],
 "metadata": {
  "kernelspec": {
   "display_name": "Python 3",
   "language": "python",
   "name": "python3"
  },
  "language_info": {
   "codemirror_mode": {
    "name": "ipython",
    "version": 3
   },
   "file_extension": ".py",
   "mimetype": "text/x-python",
   "name": "python",
   "nbconvert_exporter": "python",
   "pygments_lexer": "ipython3",
   "version": "3.8.10"
  },
  "orig_nbformat": 4
 },
 "nbformat": 4,
 "nbformat_minor": 2
}
